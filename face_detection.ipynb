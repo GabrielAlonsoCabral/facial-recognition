{
 "cells": [
  {
   "cell_type": "code",
   "execution_count": 37,
   "id": "7090b990",
   "metadata": {},
   "outputs": [],
   "source": [
    "import cv2\n",
    "import mediapipe as mp\n",
    "\n",
    "webcam = cv2.VideoCapture(0)\n",
    "face_detection = mp.solutions.face_detection\n",
    "face_recognizer = face_detection.FaceDetection()  \n",
    "drawing_utils = mp.solutions.drawing_utils \n",
    "\n",
    "while True:\n",
    "    #READING WEBCAM DATA\n",
    "    webcam_connected, frame = webcam.read()\n",
    "    \n",
    "    if not webcam_connected:\n",
    "        break\n",
    "\n",
    "    #RECOGNIZE FACES\n",
    "    faces = face_recognizer.process(frame)\n",
    "    \n",
    "    if faces.detections:\n",
    "        for face in faces.detections:\n",
    "            #DRAWING FACES IN IMAGE\n",
    "            drawing_utils.draw_detection(frame, face)            \n",
    "    \n",
    "    #Showing webcam\n",
    "    cv2.imshow(\"Faces Detection\", frame)\n",
    "    \n",
    "    #STOP BUTTON AND LOOPING TIME (waitKey)\n",
    "    if cv2.waitKey(5)==27:\n",
    "        break\n",
    "        \n",
    "webcam.release()\n",
    "cv2.destroyAllWindows()"
   ]
  },
  {
   "cell_type": "code",
   "execution_count": 36,
   "id": "ad8b2109",
   "metadata": {},
   "outputs": [],
   "source": [
    "webcam.release()\n",
    "cv2.destroyAllWindows()"
   ]
  },
  {
   "cell_type": "code",
   "execution_count": null,
   "id": "90d1647c",
   "metadata": {},
   "outputs": [],
   "source": []
  }
 ],
 "metadata": {
  "kernelspec": {
   "display_name": "Python 3 (ipykernel)",
   "language": "python",
   "name": "python3"
  },
  "language_info": {
   "codemirror_mode": {
    "name": "ipython",
    "version": 3
   },
   "file_extension": ".py",
   "mimetype": "text/x-python",
   "name": "python",
   "nbconvert_exporter": "python",
   "pygments_lexer": "ipython3",
   "version": "3.9.13"
  }
 },
 "nbformat": 4,
 "nbformat_minor": 5
}
